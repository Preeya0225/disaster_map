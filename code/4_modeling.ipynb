{
 "cells": [
  {
   "cell_type": "markdown",
   "metadata": {},
   "source": [
    "# Modeling\n",
    "\n",
    "Author: Preeya Sawadmanod \n",
    "\n",
    "---\n",
    "We are going to classify our tweets by using Word2Vec as urgent and non-urgent tweets. This way we can map these tweets later on the process. After classifying our tweets, we are going to count each _urgent_ tweets in different cities to get a total count of _urgent_ tweets per city.\n",
    "\n",
    "## Table of Contents \n",
    "--- \n",
    "\n",
    "- [Import Packages](#Import-Packages)\n",
    "- [Word2Vec](#Word2Vec)\n",
    "- [Count tweets](#Count-tweets)\n",
    "\n"
   ]
  },
  {
   "cell_type": "markdown",
   "metadata": {},
   "source": [
    "### Import Packages"
   ]
  },
  {
   "cell_type": "code",
   "execution_count": 1,
   "metadata": {},
   "outputs": [],
   "source": [
    "#Miscellaneous\n",
    "import warnings\n",
    "warnings.simplefilter(action='ignore')\n",
    "\n",
    "#Load Visualization packages \n",
    "import matplotlib.pyplot as plt\n",
    "%matplotlib inline\n",
    "\n",
    "#Load Language processing tools\n",
    "from nltk.tokenize                    import RegexpTokenizer\n",
    "from sklearn.feature_extraction.text  import CountVectorizer, TfidfVectorizer\n",
    "from sklearn.metrics.pairwise         import cosine_similarity\n",
    "\n",
    "#Load additional packages \n",
    "import gensim\n",
    "import pandas      as pd\n",
    "import numpy       as np\n",
    "import seaborn     as sns"
   ]
  },
  {
   "cell_type": "code",
   "execution_count": 2,
   "metadata": {},
   "outputs": [
    {
     "data": {
      "text/html": [
       "<div>\n",
       "<style scoped>\n",
       "    .dataframe tbody tr th:only-of-type {\n",
       "        vertical-align: middle;\n",
       "    }\n",
       "\n",
       "    .dataframe tbody tr th {\n",
       "        vertical-align: top;\n",
       "    }\n",
       "\n",
       "    .dataframe thead th {\n",
       "        text-align: right;\n",
       "    }\n",
       "</style>\n",
       "<table border=\"1\" class=\"dataframe\">\n",
       "  <thead>\n",
       "    <tr style=\"text-align: right;\">\n",
       "      <th></th>\n",
       "      <th>id</th>\n",
       "      <th>location</th>\n",
       "      <th>text</th>\n",
       "      <th>timestamp</th>\n",
       "      <th>user</th>\n",
       "      <th>clean</th>\n",
       "    </tr>\n",
       "  </thead>\n",
       "  <tbody>\n",
       "    <tr>\n",
       "      <td>0</td>\n",
       "      <td>59259141</td>\n",
       "      <td>Boston</td>\n",
       "      <td>Miles Davis to the rescue so</td>\n",
       "      <td>2012-11-11 23:52:07</td>\n",
       "      <td>diediesays</td>\n",
       "      <td>mile davis rescue</td>\n",
       "    </tr>\n",
       "    <tr>\n",
       "      <td>1</td>\n",
       "      <td>516097524</td>\n",
       "      <td>Boston</td>\n",
       "      <td>@VINNYGUADAGNINO Happy birthday man , really l...</td>\n",
       "      <td>2012-11-11 23:06:45</td>\n",
       "      <td>abdallaxiv</td>\n",
       "      <td>happy birthday man really like effort help res...</td>\n",
       "    </tr>\n",
       "    <tr>\n",
       "      <td>2</td>\n",
       "      <td>17152345</td>\n",
       "      <td>Boston</td>\n",
       "      <td>How You Can Help Sandy's Victims http://bit.ly...</td>\n",
       "      <td>2012-11-11 22:15:20</td>\n",
       "      <td>02458</td>\n",
       "      <td>help sandy victim via</td>\n",
       "    </tr>\n",
       "    <tr>\n",
       "      <td>3</td>\n",
       "      <td>460583099</td>\n",
       "      <td>Boston</td>\n",
       "      <td>When karma finally hits you in the face, ill b...</td>\n",
       "      <td>2012-11-11 19:37:42</td>\n",
       "      <td>andreap_426</td>\n",
       "      <td>karma finally hit face ill case need help</td>\n",
       "    </tr>\n",
       "    <tr>\n",
       "      <td>4</td>\n",
       "      <td>17246073</td>\n",
       "      <td>Boston</td>\n",
       "      <td>How You Can Help Sandy's Victims http://bit.ly...</td>\n",
       "      <td>2012-11-11 18:15:27</td>\n",
       "      <td>02461</td>\n",
       "      <td>help sandy victim via</td>\n",
       "    </tr>\n",
       "  </tbody>\n",
       "</table>\n",
       "</div>"
      ],
      "text/plain": [
       "          id location                                               text  \\\n",
       "0   59259141   Boston                       Miles Davis to the rescue so   \n",
       "1  516097524   Boston  @VINNYGUADAGNINO Happy birthday man , really l...   \n",
       "2   17152345   Boston  How You Can Help Sandy's Victims http://bit.ly...   \n",
       "3  460583099   Boston  When karma finally hits you in the face, ill b...   \n",
       "4   17246073   Boston  How You Can Help Sandy's Victims http://bit.ly...   \n",
       "\n",
       "             timestamp         user  \\\n",
       "0  2012-11-11 23:52:07   diediesays   \n",
       "1  2012-11-11 23:06:45   abdallaxiv   \n",
       "2  2012-11-11 22:15:20        02458   \n",
       "3  2012-11-11 19:37:42  andreap_426   \n",
       "4  2012-11-11 18:15:27        02461   \n",
       "\n",
       "                                               clean  \n",
       "0                                  mile davis rescue  \n",
       "1  happy birthday man really like effort help res...  \n",
       "2                              help sandy victim via  \n",
       "3          karma finally hit face ill case need help  \n",
       "4                              help sandy victim via  "
      ]
     },
     "execution_count": 2,
     "metadata": {},
     "output_type": "execute_result"
    }
   ],
   "source": [
    "#Reading in data frame \n",
    "df = pd.read_csv('../data/df_clean.csv')\n",
    "df.head()"
   ]
  },
  {
   "cell_type": "markdown",
   "metadata": {},
   "source": [
    "### Word2Vec\n",
    "\n",
    "Word2Vec Vectorization is a model that uses shallow neural networks to learn word embeddings, which we use to capture the context of the corpus. Word2Vec converts the corpus into a high-dimensional vector, where each word is assigned a corresponding vector. This vector in the high-dimensional space is positioned such that words which share similar context are close to each other, and words with dissimilar context are further apart.\n",
    "\n",
    "We use Word2Vec to classify our tweets into binary categories of urgent or non-urgent. Using this [word embedding model](https://embeddings.macheads101.com/), we are going to search for words that has a high correlation with `urgent`. Additionally, during EDA we have discovered many words in our tweets that we would categorize as `non-urgent`. It is important to point out that these words defined in the list are non-exhaustive and can be improved later on."
   ]
  },
  {
   "cell_type": "code",
   "execution_count": 3,
   "metadata": {},
   "outputs": [],
   "source": [
    "#List of urgent words\n",
    "urgent_word = ['help', 'people', 'rescue', 'sos','evacuation', 'shelter', 'emergency', 'fire', 'food', 'trouble', \n",
    "               'safety', 'hazard', 'need', 'lost', 'volunteer', 'medical' ]"
   ]
  },
  {
   "cell_type": "code",
   "execution_count": 4,
   "metadata": {},
   "outputs": [],
   "source": [
    "#List of non-urgent words\n",
    "nonurgent_word = [ 'twitter', 'elevator', 'pumper', 'districtchief', 'sandy', 'facility', 'school', 'pic',\n",
    "                  'like', 'lol', 'want', 'god', 'desk', 'lord', 'someone']"
   ]
  },
  {
   "cell_type": "markdown",
   "metadata": {},
   "source": [
    "Next, we use GoogleNews Vectors to train our Word2Vec model. \n",
    "\n",
    "_Note:_ The GoogleNews vector file is too large to upload to GitHub. \n",
    "\n",
    "In your terminal please run the following codes below: \n",
    "\n",
    "```python\n",
    "#Installation wget\n",
    "brew install wget\n",
    "\n",
    "#Downloading GoogleNews file \n",
    "wget -c \"https://s3.amazonaws.com/dl4j-distribution/GoogleNews-vectors-negative300.bin.gz\"\n",
    "\n",
    "#Next step: unzip file and add local file path to code block below\n",
    "```"
   ]
  },
  {
   "cell_type": "code",
   "execution_count": 5,
   "metadata": {},
   "outputs": [],
   "source": [
    "#Importing Word2Vec GoogleNews (Note: This code takes few mins to run and make sure your filepath is added)\n",
    "w2v_model = gensim.models.KeyedVectors.load_word2vec_format('../GoogleNews-vectors-negative300.bin.gz', binary=True)"
   ]
  },
  {
   "cell_type": "code",
   "execution_count": 6,
   "metadata": {},
   "outputs": [
    {
     "data": {
      "text/plain": [
       "300"
      ]
     },
     "execution_count": 6,
     "metadata": {},
     "output_type": "execute_result"
    }
   ],
   "source": [
    "#Checking vector size of GoogleNews Word2Vec\n",
    "w2v_model.vector_size"
   ]
  },
  {
   "cell_type": "markdown",
   "metadata": {},
   "source": [
    "The model will generate 300-dimensional word vectors, and all we have to do to create a vector is to pass it through the model. For each vector it will look like this: "
   ]
  },
  {
   "cell_type": "code",
   "execution_count": 7,
   "metadata": {},
   "outputs": [
    {
     "data": {
      "text/plain": [
       "array([ 0.10644531, -0.02270508, -0.34570312,  0.08740234, -0.02099609,\n",
       "        0.07568359,  0.08447266, -0.35351562,  0.29882812, -0.32617188,\n",
       "        0.12207031, -0.19726562, -0.04785156,  0.13671875, -0.22949219,\n",
       "        0.15625   ,  0.06079102,  0.00909424, -0.15527344, -0.00254822],\n",
       "      dtype=float32)"
      ]
     },
     "execution_count": 7,
     "metadata": {},
     "output_type": "execute_result"
    }
   ],
   "source": [
    "#Example for word rescue\n",
    "rescue_vec = w2v_model['rescue']\n",
    "#Checking for 20 components\n",
    "rescue_vec[:20] "
   ]
  },
  {
   "cell_type": "markdown",
   "metadata": {},
   "source": [
    "By taking the average vector of all of the words contained in a sentence, tweet, or any list of words, we can identify the “average vector” to determine the overall sentiment of the message if it was urgent or less urgent."
   ]
  },
  {
   "cell_type": "markdown",
   "metadata": {},
   "source": [
    "_Note:_ Credit to [Medium blog post](https://medium.com/@belen.sanchez27/leveraging-social-media-to-map-disasters-74b4cc34848d) with slight modification in the code block below"
   ]
  },
  {
   "cell_type": "code",
   "execution_count": 8,
   "metadata": {},
   "outputs": [],
   "source": [
    "#Credit to Belen Sanchez from Medium blog post (see link above)\n",
    "\n",
    "#Function for vectorization of corpus \n",
    "def vec_corpus(bag_of_words_list):\n",
    "    \n",
    "    #Counter for number of words in corpus that exists in GoogleNews word list \n",
    "    counter=0\n",
    "   \n",
    "    #Creating a template for cumulative corpus vector sum (300 dimensions)\n",
    "    vec_corpus_sum = np.zeros((1,300))\n",
    "    \n",
    "    #Iterating over each word in bag of word list \n",
    "    for word in bag_of_words_list:\n",
    "\n",
    "        #Checking if word exists in GoogleNews word list\n",
    "        if word in w2v_model.vocab:                    \n",
    "            \n",
    "            #Vectorizing the word if in list\n",
    "            word_vec = w2v_model.word_vec(word)        \n",
    "            \n",
    "            #Updating counter\n",
    "            counter += 1\n",
    "            \n",
    "            #Updating cumulative vector sum \n",
    "            vec_corpus_sum = vec_corpus_sum + word_vec \n",
    "\n",
    "    #Computing average vector by taking cumulative vector sum and dividing it by number of words traced\n",
    "    vec_corpus_avg = vec_corpus_sum/counter\n",
    "    \n",
    "    #Using numpy to squeeze N-dimensional nested array object into a 1-D array \n",
    "    vec_corpus_avg = np.squeeze(vec_corpus_avg)\n",
    "    \n",
    "    return(vec_corpus_avg)"
   ]
  },
  {
   "cell_type": "code",
   "execution_count": 9,
   "metadata": {},
   "outputs": [],
   "source": [
    "# Applying function to vectorize both bag of words list\n",
    "urgent_vec = vec_corpus(urgent_word)\n",
    "nonurgent_vec = vec_corpus(nonurgent_word)"
   ]
  },
  {
   "cell_type": "markdown",
   "metadata": {},
   "source": [
    "Now that we have trained our Word2Vec Model and obtained urgent and non-urgent vectors, we are going to use this to classify our tweets. In order to do that we need to tokenize our corpora first. "
   ]
  },
  {
   "cell_type": "code",
   "execution_count": 10,
   "metadata": {},
   "outputs": [
    {
     "name": "stdout",
     "output_type": "stream",
     "text": [
      "Tokenized Tweet: ['mile', 'davis', 'rescue']\n",
      "Tokenized Tweet: ['happy', 'birthday', 'man', 'really', 'like', 'effort', 'help', 'restorertheshore']\n",
      "Tokenized Tweet: ['help', 'sandy', 'victim', 'via']\n"
     ]
    }
   ],
   "source": [
    "#Instantiating Tokenizer\n",
    "tokenizer = RegexpTokenizer(r'\\b[^\\d\\W]+\\b')\n",
    "\n",
    "#Tokenizing Tweets\n",
    "tweet_tokens = [tokenizer.tokenize(token) for token in df['clean']]\n",
    "\n",
    "#Show the first three output\n",
    "[print(f\"Tokenized Tweet: {token}\") for token in tweet_tokens[0:3]];"
   ]
  },
  {
   "cell_type": "markdown",
   "metadata": {},
   "source": [
    "The next step is to calculate the cosine similarity between each vectors we have. The formula for calculating cosine similarity is the following:\n",
    "\n",
    "$$cos{\\theta} = \\frac{\\vec{\\mathbf{A}}\\cdot\\vec{\\mathbf{B}}} {||\\vec{\\mathbf{A}}|| ||\\vec{\\mathbf{B}}||}$$"
   ]
  },
  {
   "cell_type": "code",
   "execution_count": 11,
   "metadata": {},
   "outputs": [],
   "source": [
    "#Function for computing cosine similarity score \n",
    "def cos_sim_score(a,b): \n",
    "    \n",
    "    #Calculating the dot product of two vectors\n",
    "    dot = np.dot(a, b)\n",
    "    \n",
    "    #Calculating the magnitude of the vector \n",
    "    norma = np.linalg.norm(a)\n",
    "    normb = np.linalg.norm(b)\n",
    "    \n",
    "    #Calculating cosine similarity\n",
    "    cos = dot / (norma * normb)\n",
    "    \n",
    "    return cos"
   ]
  },
  {
   "cell_type": "markdown",
   "metadata": {},
   "source": [
    "Iterating through each list of tokens to calculate the cosine similarity between corpus and urgent/non-urgent vector"
   ]
  },
  {
   "cell_type": "code",
   "execution_count": 12,
   "metadata": {},
   "outputs": [],
   "source": [
    "#Empty lists\n",
    "urgent_cos_sim = []\n",
    "non_urgent_cos_sim = []\n",
    "\n",
    "#Iterating through each tweet in out list of tokens\n",
    "for tweet in tweet_tokens:\n",
    "    \n",
    "    #Call function \n",
    "    avg_vec_per_tweet = vec_corpus(tweet)\n",
    "    \n",
    "    #Creating new column in df for cosine simarlity score \n",
    "    urgent_cos_sim.append(cos_sim_score(avg_vec_per_tweet, urgent_vec))\n",
    "    non_urgent_cos_sim.append(cos_sim_score(avg_vec_per_tweet, nonurgent_vec))        "
   ]
  },
  {
   "cell_type": "code",
   "execution_count": 13,
   "metadata": {},
   "outputs": [
    {
     "data": {
      "text/html": [
       "<div>\n",
       "<style scoped>\n",
       "    .dataframe tbody tr th:only-of-type {\n",
       "        vertical-align: middle;\n",
       "    }\n",
       "\n",
       "    .dataframe tbody tr th {\n",
       "        vertical-align: top;\n",
       "    }\n",
       "\n",
       "    .dataframe thead th {\n",
       "        text-align: right;\n",
       "    }\n",
       "</style>\n",
       "<table border=\"1\" class=\"dataframe\">\n",
       "  <thead>\n",
       "    <tr style=\"text-align: right;\">\n",
       "      <th></th>\n",
       "      <th>id</th>\n",
       "      <th>location</th>\n",
       "      <th>text</th>\n",
       "      <th>timestamp</th>\n",
       "      <th>user</th>\n",
       "      <th>clean</th>\n",
       "      <th>urgent_cos_sim</th>\n",
       "      <th>non_urgent_cos_sim</th>\n",
       "    </tr>\n",
       "  </thead>\n",
       "  <tbody>\n",
       "    <tr>\n",
       "      <td>0</td>\n",
       "      <td>59259141</td>\n",
       "      <td>Boston</td>\n",
       "      <td>Miles Davis to the rescue so</td>\n",
       "      <td>2012-11-11 23:52:07</td>\n",
       "      <td>diediesays</td>\n",
       "      <td>mile davis rescue</td>\n",
       "      <td>0.457708</td>\n",
       "      <td>0.351152</td>\n",
       "    </tr>\n",
       "    <tr>\n",
       "      <td>1</td>\n",
       "      <td>516097524</td>\n",
       "      <td>Boston</td>\n",
       "      <td>@VINNYGUADAGNINO Happy birthday man , really l...</td>\n",
       "      <td>2012-11-11 23:06:45</td>\n",
       "      <td>abdallaxiv</td>\n",
       "      <td>happy birthday man really like effort help res...</td>\n",
       "      <td>0.425024</td>\n",
       "      <td>0.537722</td>\n",
       "    </tr>\n",
       "    <tr>\n",
       "      <td>2</td>\n",
       "      <td>17152345</td>\n",
       "      <td>Boston</td>\n",
       "      <td>How You Can Help Sandy's Victims http://bit.ly...</td>\n",
       "      <td>2012-11-11 22:15:20</td>\n",
       "      <td>02458</td>\n",
       "      <td>help sandy victim via</td>\n",
       "      <td>0.387576</td>\n",
       "      <td>0.425240</td>\n",
       "    </tr>\n",
       "    <tr>\n",
       "      <td>3</td>\n",
       "      <td>460583099</td>\n",
       "      <td>Boston</td>\n",
       "      <td>When karma finally hits you in the face, ill b...</td>\n",
       "      <td>2012-11-11 19:37:42</td>\n",
       "      <td>andreap_426</td>\n",
       "      <td>karma finally hit face ill case need help</td>\n",
       "      <td>0.507330</td>\n",
       "      <td>0.435685</td>\n",
       "    </tr>\n",
       "    <tr>\n",
       "      <td>4</td>\n",
       "      <td>17246073</td>\n",
       "      <td>Boston</td>\n",
       "      <td>How You Can Help Sandy's Victims http://bit.ly...</td>\n",
       "      <td>2012-11-11 18:15:27</td>\n",
       "      <td>02461</td>\n",
       "      <td>help sandy victim via</td>\n",
       "      <td>0.387576</td>\n",
       "      <td>0.425240</td>\n",
       "    </tr>\n",
       "  </tbody>\n",
       "</table>\n",
       "</div>"
      ],
      "text/plain": [
       "          id location                                               text  \\\n",
       "0   59259141   Boston                       Miles Davis to the rescue so   \n",
       "1  516097524   Boston  @VINNYGUADAGNINO Happy birthday man , really l...   \n",
       "2   17152345   Boston  How You Can Help Sandy's Victims http://bit.ly...   \n",
       "3  460583099   Boston  When karma finally hits you in the face, ill b...   \n",
       "4   17246073   Boston  How You Can Help Sandy's Victims http://bit.ly...   \n",
       "\n",
       "             timestamp         user  \\\n",
       "0  2012-11-11 23:52:07   diediesays   \n",
       "1  2012-11-11 23:06:45   abdallaxiv   \n",
       "2  2012-11-11 22:15:20        02458   \n",
       "3  2012-11-11 19:37:42  andreap_426   \n",
       "4  2012-11-11 18:15:27        02461   \n",
       "\n",
       "                                               clean  urgent_cos_sim  \\\n",
       "0                                  mile davis rescue        0.457708   \n",
       "1  happy birthday man really like effort help res...        0.425024   \n",
       "2                              help sandy victim via        0.387576   \n",
       "3          karma finally hit face ill case need help        0.507330   \n",
       "4                              help sandy victim via        0.387576   \n",
       "\n",
       "   non_urgent_cos_sim  \n",
       "0            0.351152  \n",
       "1            0.537722  \n",
       "2            0.425240  \n",
       "3            0.435685  \n",
       "4            0.425240  "
      ]
     },
     "execution_count": 13,
     "metadata": {},
     "output_type": "execute_result"
    }
   ],
   "source": [
    "df['urgent_cos_sim'] = urgent_cos_sim\n",
    "df['non_urgent_cos_sim'] = non_urgent_cos_sim\n",
    "df.head()"
   ]
  },
  {
   "cell_type": "markdown",
   "metadata": {},
   "source": [
    "Now that we have calculated the cosine similarity of each tweets, we are going to compare the values.\n",
    "\n",
    "- If value of `urgent_cos_sim` is higher than `non_urgent_cos_sim` then the tweets will get the value of 1 assigned to it. This indicates that it is urgent. \n",
    "- If the value of `urgent_cos_sim` is smaller than `non_urgent_cos_sim` then the tweets will get the value of 0 assigned indicating that it is non-urgent."
   ]
  },
  {
   "cell_type": "code",
   "execution_count": 14,
   "metadata": {},
   "outputs": [],
   "source": [
    "#Creating Classification \n",
    "urgent = []\n",
    "\n",
    "for rows in df.index:  \n",
    "    if df['urgent_cos_sim'][rows] > df['non_urgent_cos_sim'][rows]:\n",
    "        urgent.append(1)\n",
    "    else: \n",
    "        urgent.append(0)"
   ]
  },
  {
   "cell_type": "code",
   "execution_count": 15,
   "metadata": {},
   "outputs": [],
   "source": [
    "#Creating a new column\n",
    "df['urgent'] = urgent"
   ]
  },
  {
   "cell_type": "code",
   "execution_count": 16,
   "metadata": {},
   "outputs": [
    {
     "data": {
      "text/plain": [
       "0    0.696587\n",
       "1    0.303413\n",
       "Name: urgent, dtype: float64"
      ]
     },
     "execution_count": 16,
     "metadata": {},
     "output_type": "execute_result"
    }
   ],
   "source": [
    "df['urgent'].value_counts(normalize=True)"
   ]
  },
  {
   "cell_type": "markdown",
   "metadata": {},
   "source": [
    "**Observation**: 70% of our tweets are classified as non-urgent and 30% are urgent."
   ]
  },
  {
   "cell_type": "markdown",
   "metadata": {},
   "source": [
    "### Count tweets\n",
    "\n",
    "Next, we are going to count each urgent tweets in each city"
   ]
  },
  {
   "cell_type": "code",
   "execution_count": 17,
   "metadata": {},
   "outputs": [
    {
     "data": {
      "text/html": [
       "<div>\n",
       "<style scoped>\n",
       "    .dataframe tbody tr th:only-of-type {\n",
       "        vertical-align: middle;\n",
       "    }\n",
       "\n",
       "    .dataframe tbody tr th {\n",
       "        vertical-align: top;\n",
       "    }\n",
       "\n",
       "    .dataframe thead th {\n",
       "        text-align: right;\n",
       "    }\n",
       "</style>\n",
       "<table border=\"1\" class=\"dataframe\">\n",
       "  <thead>\n",
       "    <tr style=\"text-align: right;\">\n",
       "      <th></th>\n",
       "      <th>id</th>\n",
       "      <th>location</th>\n",
       "      <th>text</th>\n",
       "      <th>timestamp</th>\n",
       "      <th>user</th>\n",
       "      <th>clean</th>\n",
       "      <th>urgent_cos_sim</th>\n",
       "      <th>non_urgent_cos_sim</th>\n",
       "      <th>urgent</th>\n",
       "    </tr>\n",
       "  </thead>\n",
       "  <tbody>\n",
       "    <tr>\n",
       "      <td>0</td>\n",
       "      <td>59259141</td>\n",
       "      <td>Boston</td>\n",
       "      <td>Miles Davis to the rescue so</td>\n",
       "      <td>2012-11-11 23:52:07</td>\n",
       "      <td>diediesays</td>\n",
       "      <td>mile davis rescue</td>\n",
       "      <td>0.457708</td>\n",
       "      <td>0.351152</td>\n",
       "      <td>1</td>\n",
       "    </tr>\n",
       "    <tr>\n",
       "      <td>1</td>\n",
       "      <td>516097524</td>\n",
       "      <td>Boston</td>\n",
       "      <td>@VINNYGUADAGNINO Happy birthday man , really l...</td>\n",
       "      <td>2012-11-11 23:06:45</td>\n",
       "      <td>abdallaxiv</td>\n",
       "      <td>happy birthday man really like effort help res...</td>\n",
       "      <td>0.425024</td>\n",
       "      <td>0.537722</td>\n",
       "      <td>0</td>\n",
       "    </tr>\n",
       "    <tr>\n",
       "      <td>2</td>\n",
       "      <td>17152345</td>\n",
       "      <td>Boston</td>\n",
       "      <td>How You Can Help Sandy's Victims http://bit.ly...</td>\n",
       "      <td>2012-11-11 22:15:20</td>\n",
       "      <td>02458</td>\n",
       "      <td>help sandy victim via</td>\n",
       "      <td>0.387576</td>\n",
       "      <td>0.425240</td>\n",
       "      <td>0</td>\n",
       "    </tr>\n",
       "    <tr>\n",
       "      <td>3</td>\n",
       "      <td>460583099</td>\n",
       "      <td>Boston</td>\n",
       "      <td>When karma finally hits you in the face, ill b...</td>\n",
       "      <td>2012-11-11 19:37:42</td>\n",
       "      <td>andreap_426</td>\n",
       "      <td>karma finally hit face ill case need help</td>\n",
       "      <td>0.507330</td>\n",
       "      <td>0.435685</td>\n",
       "      <td>1</td>\n",
       "    </tr>\n",
       "    <tr>\n",
       "      <td>4</td>\n",
       "      <td>17246073</td>\n",
       "      <td>Boston</td>\n",
       "      <td>How You Can Help Sandy's Victims http://bit.ly...</td>\n",
       "      <td>2012-11-11 18:15:27</td>\n",
       "      <td>02461</td>\n",
       "      <td>help sandy victim via</td>\n",
       "      <td>0.387576</td>\n",
       "      <td>0.425240</td>\n",
       "      <td>0</td>\n",
       "    </tr>\n",
       "  </tbody>\n",
       "</table>\n",
       "</div>"
      ],
      "text/plain": [
       "          id location                                               text  \\\n",
       "0   59259141   Boston                       Miles Davis to the rescue so   \n",
       "1  516097524   Boston  @VINNYGUADAGNINO Happy birthday man , really l...   \n",
       "2   17152345   Boston  How You Can Help Sandy's Victims http://bit.ly...   \n",
       "3  460583099   Boston  When karma finally hits you in the face, ill b...   \n",
       "4   17246073   Boston  How You Can Help Sandy's Victims http://bit.ly...   \n",
       "\n",
       "             timestamp         user  \\\n",
       "0  2012-11-11 23:52:07   diediesays   \n",
       "1  2012-11-11 23:06:45   abdallaxiv   \n",
       "2  2012-11-11 22:15:20        02458   \n",
       "3  2012-11-11 19:37:42  andreap_426   \n",
       "4  2012-11-11 18:15:27        02461   \n",
       "\n",
       "                                               clean  urgent_cos_sim  \\\n",
       "0                                  mile davis rescue        0.457708   \n",
       "1  happy birthday man really like effort help res...        0.425024   \n",
       "2                              help sandy victim via        0.387576   \n",
       "3          karma finally hit face ill case need help        0.507330   \n",
       "4                              help sandy victim via        0.387576   \n",
       "\n",
       "   non_urgent_cos_sim  urgent  \n",
       "0            0.351152       1  \n",
       "1            0.537722       0  \n",
       "2            0.425240       0  \n",
       "3            0.435685       1  \n",
       "4            0.425240       0  "
      ]
     },
     "execution_count": 17,
     "metadata": {},
     "output_type": "execute_result"
    }
   ],
   "source": [
    "df .head()"
   ]
  },
  {
   "cell_type": "code",
   "execution_count": 18,
   "metadata": {},
   "outputs": [],
   "source": [
    "#Extracting only columns needed \n",
    "df = df[['urgent', 'timestamp', 'location']]"
   ]
  },
  {
   "cell_type": "code",
   "execution_count": 19,
   "metadata": {},
   "outputs": [
    {
     "data": {
      "text/html": [
       "<div>\n",
       "<style scoped>\n",
       "    .dataframe tbody tr th:only-of-type {\n",
       "        vertical-align: middle;\n",
       "    }\n",
       "\n",
       "    .dataframe tbody tr th {\n",
       "        vertical-align: top;\n",
       "    }\n",
       "\n",
       "    .dataframe thead th {\n",
       "        text-align: right;\n",
       "    }\n",
       "</style>\n",
       "<table border=\"1\" class=\"dataframe\">\n",
       "  <thead>\n",
       "    <tr style=\"text-align: right;\">\n",
       "      <th></th>\n",
       "      <th>urgent</th>\n",
       "      <th>timestamp</th>\n",
       "      <th>location</th>\n",
       "    </tr>\n",
       "  </thead>\n",
       "  <tbody>\n",
       "    <tr>\n",
       "      <td>2143</td>\n",
       "      <td>0</td>\n",
       "      <td>2012-10-27 00:04:07</td>\n",
       "      <td>Philadelphia</td>\n",
       "    </tr>\n",
       "    <tr>\n",
       "      <td>2499</td>\n",
       "      <td>1</td>\n",
       "      <td>2012-10-27 00:09:27</td>\n",
       "      <td>Providence</td>\n",
       "    </tr>\n",
       "    <tr>\n",
       "      <td>3984</td>\n",
       "      <td>1</td>\n",
       "      <td>2012-10-27 00:10:29</td>\n",
       "      <td>Long Beach</td>\n",
       "    </tr>\n",
       "    <tr>\n",
       "      <td>3542</td>\n",
       "      <td>0</td>\n",
       "      <td>2012-10-27 00:11:59</td>\n",
       "      <td>Washington DC</td>\n",
       "    </tr>\n",
       "    <tr>\n",
       "      <td>2142</td>\n",
       "      <td>0</td>\n",
       "      <td>2012-10-27 00:18:58</td>\n",
       "      <td>Philadelphia</td>\n",
       "    </tr>\n",
       "  </tbody>\n",
       "</table>\n",
       "</div>"
      ],
      "text/plain": [
       "      urgent            timestamp       location\n",
       "2143       0  2012-10-27 00:04:07   Philadelphia\n",
       "2499       1  2012-10-27 00:09:27     Providence\n",
       "3984       1  2012-10-27 00:10:29     Long Beach\n",
       "3542       0  2012-10-27 00:11:59  Washington DC\n",
       "2142       0  2012-10-27 00:18:58   Philadelphia"
      ]
     },
     "execution_count": 19,
     "metadata": {},
     "output_type": "execute_result"
    }
   ],
   "source": [
    "#Sorting by timestamp \n",
    "df.sort_values(by='timestamp', inplace=True)\n",
    "df.head()"
   ]
  },
  {
   "cell_type": "code",
   "execution_count": 20,
   "metadata": {},
   "outputs": [
    {
     "data": {
      "image/png": "[encoded data removed]",
      "text/plain": [
       "<Figure size 1224x720 with 1 Axes>"
      ]
     },
     "metadata": {
      "needs_background": "light"
     },
     "output_type": "display_data"
    }
   ],
   "source": [
    "#Plotting Counts of tweets per city \n",
    "plt.figure(figsize=(17,10))\n",
    "sns.set(font_scale=1.7)\n",
    "ax = sns.countplot(x='location', data=df, hue='urgent', palette= \"PuBuGn\");\n",
    "    \n",
    "#Set title, label and legend \n",
    "ax.set_title(\"Count of Tweets by location\", fontsize = 30)\n",
    "ax.set_ylabel(\"Count of Tweets\")\n",
    "ax.set_xlabel(\"Location\")\n",
    "plt.legend(labels=['Non-urgent', 'Urgent'])\n",
    "\n",
    "#Save figure\n",
    "plt.savefig('../images/count_tweets_location.png');"
   ]
  },
  {
   "cell_type": "markdown",
   "metadata": {},
   "source": [
    "**Observation**: As already expected we have a higher count of non-urgent tweets in most of the city. However, New York City has a close count of non-urgent and urgent tweets, whereas Philadelphia has high number of non-urgent tweets and a low value of urgent tweets. "
   ]
  },
  {
   "cell_type": "markdown",
   "metadata": {},
   "source": [
    "We are going to create different columns for each city, where we are going to cumulatively count urgent tweets over time."
   ]
  },
  {
   "cell_type": "code",
   "execution_count": 21,
   "metadata": {},
   "outputs": [],
   "source": [
    "#Function to count urgent tweets\n",
    "def count_city(df, city):\n",
    "    #empty list\n",
    "    city_list = []\n",
    "    \n",
    "    #Iterating through each row \n",
    "    for index,rows in enumerate(df['location']):\n",
    "        if rows == city:\n",
    "            city_list.append(df['urgent'][index])\n",
    "        else:\n",
    "            city_list.append(0)\n",
    "    \n",
    "    return np.cumsum(city_list)"
   ]
  },
  {
   "cell_type": "code",
   "execution_count": 22,
   "metadata": {},
   "outputs": [
    {
     "data": {
      "text/plain": [
       "array([  0,   0,   0, ..., 268, 269, 269])"
      ]
     },
     "execution_count": 22,
     "metadata": {},
     "output_type": "execute_result"
    }
   ],
   "source": [
    "#Test function\n",
    "count_city(df, city='Boston')"
   ]
  },
  {
   "cell_type": "code",
   "execution_count": 23,
   "metadata": {},
   "outputs": [],
   "source": [
    "#Iterating through each city in df['location'] and applying function\n",
    "for cities in df['location'].unique():\n",
    "    df[cities] = count_city(df, city=cities)"
   ]
  },
  {
   "cell_type": "code",
   "execution_count": 24,
   "metadata": {},
   "outputs": [],
   "source": [
    "#Eliminating columns that are not needed anymore \n",
    "df.drop(columns=['urgent', 'location'], inplace=True)"
   ]
  },
  {
   "cell_type": "code",
   "execution_count": 25,
   "metadata": {},
   "outputs": [
    {
     "data": {
      "text/html": [
       "<div>\n",
       "<style scoped>\n",
       "    .dataframe tbody tr th:only-of-type {\n",
       "        vertical-align: middle;\n",
       "    }\n",
       "\n",
       "    .dataframe tbody tr th {\n",
       "        vertical-align: top;\n",
       "    }\n",
       "\n",
       "    .dataframe thead th {\n",
       "        text-align: right;\n",
       "    }\n",
       "</style>\n",
       "<table border=\"1\" class=\"dataframe\">\n",
       "  <thead>\n",
       "    <tr style=\"text-align: right;\">\n",
       "      <th></th>\n",
       "      <th>timestamp</th>\n",
       "      <th>Philadelphia</th>\n",
       "      <th>Providence</th>\n",
       "      <th>Long Beach</th>\n",
       "      <th>Washington DC</th>\n",
       "      <th>Boston</th>\n",
       "      <th>Richmond</th>\n",
       "      <th>Buffalo</th>\n",
       "      <th>New York City</th>\n",
       "    </tr>\n",
       "  </thead>\n",
       "  <tbody>\n",
       "    <tr>\n",
       "      <td>2143</td>\n",
       "      <td>2012-10-27 00:04:07</td>\n",
       "      <td>1</td>\n",
       "      <td>0</td>\n",
       "      <td>0</td>\n",
       "      <td>0</td>\n",
       "      <td>0</td>\n",
       "      <td>0</td>\n",
       "      <td>0</td>\n",
       "      <td>0</td>\n",
       "    </tr>\n",
       "    <tr>\n",
       "      <td>2499</td>\n",
       "      <td>2012-10-27 00:09:27</td>\n",
       "      <td>1</td>\n",
       "      <td>0</td>\n",
       "      <td>0</td>\n",
       "      <td>0</td>\n",
       "      <td>0</td>\n",
       "      <td>0</td>\n",
       "      <td>0</td>\n",
       "      <td>0</td>\n",
       "    </tr>\n",
       "    <tr>\n",
       "      <td>3984</td>\n",
       "      <td>2012-10-27 00:10:29</td>\n",
       "      <td>1</td>\n",
       "      <td>0</td>\n",
       "      <td>0</td>\n",
       "      <td>0</td>\n",
       "      <td>0</td>\n",
       "      <td>0</td>\n",
       "      <td>0</td>\n",
       "      <td>0</td>\n",
       "    </tr>\n",
       "    <tr>\n",
       "      <td>3542</td>\n",
       "      <td>2012-10-27 00:11:59</td>\n",
       "      <td>1</td>\n",
       "      <td>0</td>\n",
       "      <td>0</td>\n",
       "      <td>1</td>\n",
       "      <td>0</td>\n",
       "      <td>0</td>\n",
       "      <td>0</td>\n",
       "      <td>0</td>\n",
       "    </tr>\n",
       "    <tr>\n",
       "      <td>2142</td>\n",
       "      <td>2012-10-27 00:18:58</td>\n",
       "      <td>1</td>\n",
       "      <td>0</td>\n",
       "      <td>0</td>\n",
       "      <td>1</td>\n",
       "      <td>0</td>\n",
       "      <td>0</td>\n",
       "      <td>0</td>\n",
       "      <td>0</td>\n",
       "    </tr>\n",
       "  </tbody>\n",
       "</table>\n",
       "</div>"
      ],
      "text/plain": [
       "                timestamp  Philadelphia  Providence  Long Beach  \\\n",
       "2143  2012-10-27 00:04:07             1           0           0   \n",
       "2499  2012-10-27 00:09:27             1           0           0   \n",
       "3984  2012-10-27 00:10:29             1           0           0   \n",
       "3542  2012-10-27 00:11:59             1           0           0   \n",
       "2142  2012-10-27 00:18:58             1           0           0   \n",
       "\n",
       "      Washington DC  Boston  Richmond  Buffalo  New York City  \n",
       "2143              0       0         0        0              0  \n",
       "2499              0       0         0        0              0  \n",
       "3984              0       0         0        0              0  \n",
       "3542              1       0         0        0              0  \n",
       "2142              1       0         0        0              0  "
      ]
     },
     "execution_count": 25,
     "metadata": {},
     "output_type": "execute_result"
    }
   ],
   "source": [
    "#Results\n",
    "df.head()"
   ]
  },
  {
   "cell_type": "code",
   "execution_count": 26,
   "metadata": {},
   "outputs": [
    {
     "data": {
      "text/html": [
       "<div>\n",
       "<style scoped>\n",
       "    .dataframe tbody tr th:only-of-type {\n",
       "        vertical-align: middle;\n",
       "    }\n",
       "\n",
       "    .dataframe tbody tr th {\n",
       "        vertical-align: top;\n",
       "    }\n",
       "\n",
       "    .dataframe thead th {\n",
       "        text-align: right;\n",
       "    }\n",
       "</style>\n",
       "<table border=\"1\" class=\"dataframe\">\n",
       "  <thead>\n",
       "    <tr style=\"text-align: right;\">\n",
       "      <th></th>\n",
       "      <th>timestamp</th>\n",
       "      <th>Philadelphia</th>\n",
       "      <th>Providence</th>\n",
       "      <th>Long Beach</th>\n",
       "      <th>Washington DC</th>\n",
       "      <th>Boston</th>\n",
       "      <th>Richmond</th>\n",
       "      <th>Buffalo</th>\n",
       "      <th>New York City</th>\n",
       "    </tr>\n",
       "  </thead>\n",
       "  <tbody>\n",
       "    <tr>\n",
       "      <td>3625</td>\n",
       "      <td>2012-11-12 23:43:21</td>\n",
       "      <td>372</td>\n",
       "      <td>113</td>\n",
       "      <td>226</td>\n",
       "      <td>318</td>\n",
       "      <td>267</td>\n",
       "      <td>77</td>\n",
       "      <td>97</td>\n",
       "      <td>235</td>\n",
       "    </tr>\n",
       "    <tr>\n",
       "      <td>4208</td>\n",
       "      <td>2012-11-12 23:46:53</td>\n",
       "      <td>372</td>\n",
       "      <td>113</td>\n",
       "      <td>226</td>\n",
       "      <td>318</td>\n",
       "      <td>267</td>\n",
       "      <td>77</td>\n",
       "      <td>97</td>\n",
       "      <td>235</td>\n",
       "    </tr>\n",
       "    <tr>\n",
       "      <td>475</td>\n",
       "      <td>2012-11-12 23:51:44</td>\n",
       "      <td>372</td>\n",
       "      <td>113</td>\n",
       "      <td>226</td>\n",
       "      <td>318</td>\n",
       "      <td>268</td>\n",
       "      <td>77</td>\n",
       "      <td>97</td>\n",
       "      <td>235</td>\n",
       "    </tr>\n",
       "    <tr>\n",
       "      <td>474</td>\n",
       "      <td>2012-11-12 23:55:21</td>\n",
       "      <td>372</td>\n",
       "      <td>113</td>\n",
       "      <td>226</td>\n",
       "      <td>318</td>\n",
       "      <td>269</td>\n",
       "      <td>77</td>\n",
       "      <td>97</td>\n",
       "      <td>235</td>\n",
       "    </tr>\n",
       "    <tr>\n",
       "      <td>2811</td>\n",
       "      <td>2012-11-12 23:58:10</td>\n",
       "      <td>372</td>\n",
       "      <td>113</td>\n",
       "      <td>226</td>\n",
       "      <td>318</td>\n",
       "      <td>269</td>\n",
       "      <td>77</td>\n",
       "      <td>97</td>\n",
       "      <td>235</td>\n",
       "    </tr>\n",
       "  </tbody>\n",
       "</table>\n",
       "</div>"
      ],
      "text/plain": [
       "                timestamp  Philadelphia  Providence  Long Beach  \\\n",
       "3625  2012-11-12 23:43:21           372         113         226   \n",
       "4208  2012-11-12 23:46:53           372         113         226   \n",
       "475   2012-11-12 23:51:44           372         113         226   \n",
       "474   2012-11-12 23:55:21           372         113         226   \n",
       "2811  2012-11-12 23:58:10           372         113         226   \n",
       "\n",
       "      Washington DC  Boston  Richmond  Buffalo  New York City  \n",
       "3625            318     267        77       97            235  \n",
       "4208            318     267        77       97            235  \n",
       "475             318     268        77       97            235  \n",
       "474             318     269        77       97            235  \n",
       "2811            318     269        77       97            235  "
      ]
     },
     "execution_count": 26,
     "metadata": {},
     "output_type": "execute_result"
    }
   ],
   "source": [
    "#Results\n",
    "df.tail()"
   ]
  },
  {
   "cell_type": "markdown",
   "metadata": {},
   "source": [
    "Now we have a data frame where we have cumulatively count urgent tweets in each location over time. We are going to save this new data frame to continue with mapping "
   ]
  },
  {
   "cell_type": "code",
   "execution_count": 27,
   "metadata": {},
   "outputs": [],
   "source": [
    "#Saving data frame \n",
    "df.to_csv('../data/df_mapping.csv', index_label=False)"
   ]
  }
 ],
 "metadata": {
  "kernelspec": {
   "display_name": "Python 3",
   "language": "python",
   "name": "python3"
  },
  "language_info": {
   "codemirror_mode": {
    "name": "ipython",
    "version": 3
   },
   "file_extension": ".py",
   "mimetype": "text/x-python",
   "name": "python",
   "nbconvert_exporter": "python",
   "pygments_lexer": "ipython3",
   "version": "3.7.4"
  },
  "toc": {
   "base_numbering": 1,
   "nav_menu": {},
   "number_sections": true,
   "sideBar": true,
   "skip_h1_title": false,
   "title_cell": "Table of Contents",
   "title_sidebar": "Contents",
   "toc_cell": false,
   "toc_position": {},
   "toc_section_display": true,
   "toc_window_display": false
  }
 },
 "nbformat": 4,
 "nbformat_minor": 4
}
